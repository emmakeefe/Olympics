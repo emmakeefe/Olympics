{
 "cells": [
  {
   "cell_type": "markdown",
   "metadata": {},
   "source": [
    "# Olympic Athletes and Teams From 1896 - 2016"
   ]
  },
  {
   "cell_type": "markdown",
   "metadata": {},
   "source": [
    "<img src=\"double_image.jpg\">"
   ]
  },
  {
   "cell_type": "markdown",
   "metadata": {},
   "source": [
    "Datasets used in this project: https://www.kaggle.com/the-guardian/olympic-games (GDP and Population of competing countries)\n",
    "\n",
    "https://www.kaggle.com/heesoo37/120-years-of-olympic-history-athletes-and-results  (biodata on athletes and medal results from 1896-2016 Games)"
   ]
  },
  {
   "cell_type": "code",
   "execution_count": 90,
   "metadata": {},
   "outputs": [],
   "source": [
    "#import libraries\n",
    "import numpy as np \n",
    "import pandas as pd \n",
    "import os\n",
    "import matplotlib.pyplot as plt\n",
    "plt.style.use('ggplot')\n",
    "from matplotlib.pyplot import figure\n",
    "import seaborn as sns\n",
    "sns.set_palette(\"colorblind\")\n",
    "palette = sns.color_palette(\"colorblind\")"
   ]
  },
  {
   "cell_type": "code",
   "execution_count": 91,
   "metadata": {},
   "outputs": [
    {
     "data": {
      "text/html": [
       "<div>\n",
       "<style scoped>\n",
       "    .dataframe tbody tr th:only-of-type {\n",
       "        vertical-align: middle;\n",
       "    }\n",
       "\n",
       "    .dataframe tbody tr th {\n",
       "        vertical-align: top;\n",
       "    }\n",
       "\n",
       "    .dataframe thead th {\n",
       "        text-align: right;\n",
       "    }\n",
       "</style>\n",
       "<table border=\"1\" class=\"dataframe\">\n",
       "  <thead>\n",
       "    <tr style=\"text-align: right;\">\n",
       "      <th></th>\n",
       "      <th>ID</th>\n",
       "      <th>Name</th>\n",
       "      <th>Sex</th>\n",
       "      <th>Age</th>\n",
       "      <th>Height</th>\n",
       "      <th>Weight</th>\n",
       "      <th>Team</th>\n",
       "      <th>NOC</th>\n",
       "      <th>Games</th>\n",
       "      <th>Year</th>\n",
       "      <th>Season</th>\n",
       "      <th>City</th>\n",
       "      <th>Sport</th>\n",
       "      <th>Event</th>\n",
       "      <th>Medal</th>\n",
       "    </tr>\n",
       "  </thead>\n",
       "  <tbody>\n",
       "    <tr>\n",
       "      <th>0</th>\n",
       "      <td>1</td>\n",
       "      <td>A Dijiang</td>\n",
       "      <td>M</td>\n",
       "      <td>24.0</td>\n",
       "      <td>180.0</td>\n",
       "      <td>80.0</td>\n",
       "      <td>China</td>\n",
       "      <td>CHN</td>\n",
       "      <td>1992 Summer</td>\n",
       "      <td>1992</td>\n",
       "      <td>Summer</td>\n",
       "      <td>Barcelona</td>\n",
       "      <td>Basketball</td>\n",
       "      <td>Basketball Men's Basketball</td>\n",
       "      <td>NaN</td>\n",
       "    </tr>\n",
       "    <tr>\n",
       "      <th>1</th>\n",
       "      <td>2</td>\n",
       "      <td>A Lamusi</td>\n",
       "      <td>M</td>\n",
       "      <td>23.0</td>\n",
       "      <td>170.0</td>\n",
       "      <td>60.0</td>\n",
       "      <td>China</td>\n",
       "      <td>CHN</td>\n",
       "      <td>2012 Summer</td>\n",
       "      <td>2012</td>\n",
       "      <td>Summer</td>\n",
       "      <td>London</td>\n",
       "      <td>Judo</td>\n",
       "      <td>Judo Men's Extra-Lightweight</td>\n",
       "      <td>NaN</td>\n",
       "    </tr>\n",
       "    <tr>\n",
       "      <th>2</th>\n",
       "      <td>3</td>\n",
       "      <td>Gunnar Nielsen Aaby</td>\n",
       "      <td>M</td>\n",
       "      <td>24.0</td>\n",
       "      <td>NaN</td>\n",
       "      <td>NaN</td>\n",
       "      <td>Denmark</td>\n",
       "      <td>DEN</td>\n",
       "      <td>1920 Summer</td>\n",
       "      <td>1920</td>\n",
       "      <td>Summer</td>\n",
       "      <td>Antwerpen</td>\n",
       "      <td>Football</td>\n",
       "      <td>Football Men's Football</td>\n",
       "      <td>NaN</td>\n",
       "    </tr>\n",
       "    <tr>\n",
       "      <th>3</th>\n",
       "      <td>4</td>\n",
       "      <td>Edgar Lindenau Aabye</td>\n",
       "      <td>M</td>\n",
       "      <td>34.0</td>\n",
       "      <td>NaN</td>\n",
       "      <td>NaN</td>\n",
       "      <td>Denmark/Sweden</td>\n",
       "      <td>DEN</td>\n",
       "      <td>1900 Summer</td>\n",
       "      <td>1900</td>\n",
       "      <td>Summer</td>\n",
       "      <td>Paris</td>\n",
       "      <td>Tug-Of-War</td>\n",
       "      <td>Tug-Of-War Men's Tug-Of-War</td>\n",
       "      <td>Gold</td>\n",
       "    </tr>\n",
       "    <tr>\n",
       "      <th>4</th>\n",
       "      <td>5</td>\n",
       "      <td>Christine Jacoba Aaftink</td>\n",
       "      <td>F</td>\n",
       "      <td>21.0</td>\n",
       "      <td>185.0</td>\n",
       "      <td>82.0</td>\n",
       "      <td>Netherlands</td>\n",
       "      <td>NED</td>\n",
       "      <td>1988 Winter</td>\n",
       "      <td>1988</td>\n",
       "      <td>Winter</td>\n",
       "      <td>Calgary</td>\n",
       "      <td>Speed Skating</td>\n",
       "      <td>Speed Skating Women's 500 metres</td>\n",
       "      <td>NaN</td>\n",
       "    </tr>\n",
       "  </tbody>\n",
       "</table>\n",
       "</div>"
      ],
      "text/plain": [
       "   ID                      Name Sex   Age  Height  Weight            Team  \\\n",
       "0   1                 A Dijiang   M  24.0   180.0    80.0           China   \n",
       "1   2                  A Lamusi   M  23.0   170.0    60.0           China   \n",
       "2   3       Gunnar Nielsen Aaby   M  24.0     NaN     NaN         Denmark   \n",
       "3   4      Edgar Lindenau Aabye   M  34.0     NaN     NaN  Denmark/Sweden   \n",
       "4   5  Christine Jacoba Aaftink   F  21.0   185.0    82.0     Netherlands   \n",
       "\n",
       "   NOC        Games  Year  Season       City          Sport  \\\n",
       "0  CHN  1992 Summer  1992  Summer  Barcelona     Basketball   \n",
       "1  CHN  2012 Summer  2012  Summer     London           Judo   \n",
       "2  DEN  1920 Summer  1920  Summer  Antwerpen       Football   \n",
       "3  DEN  1900 Summer  1900  Summer      Paris     Tug-Of-War   \n",
       "4  NED  1988 Winter  1988  Winter    Calgary  Speed Skating   \n",
       "\n",
       "                              Event Medal  \n",
       "0       Basketball Men's Basketball   NaN  \n",
       "1      Judo Men's Extra-Lightweight   NaN  \n",
       "2           Football Men's Football   NaN  \n",
       "3       Tug-Of-War Men's Tug-Of-War  Gold  \n",
       "4  Speed Skating Women's 500 metres   NaN  "
      ]
     },
     "execution_count": 91,
     "metadata": {},
     "output_type": "execute_result"
    }
   ],
   "source": [
    "#read data into a dataframe\n",
    "events = pd.read_csv('athlete_events.csv')\n",
    "events.head()"
   ]
  },
  {
   "cell_type": "markdown",
   "metadata": {},
   "source": [
    "## The Dataset"
   ]
  },
  {
   "cell_type": "markdown",
   "metadata": {},
   "source": [
    "This table contains data on Olympic athletes from 1896-2016, including height, weight, age, sport, event(s), and medal(s) won. Data on Summer Games span from 1896-2016, while Winter Games start in 1924 and the data continues through 2016.\n",
    "\n",
    "The events table lists all events for all athletes. One athlete might have competed in 3 events during two Games and is therefore listed 6 times. An athlete might have multiple age entries (and possibly height/weight entries, if this information changed from one Games to the next). The ID column is a unique identifier for the athlete and remains the same regardless of event or year."
   ]
  },
  {
   "cell_type": "markdown",
   "metadata": {},
   "source": [
    "## Find the proportion of entries for each year that have height and weight data"
   ]
  },
  {
   "cell_type": "markdown",
   "metadata": {},
   "source": [
    "Let's see how the height and weight data is distributed over the time period (1896-2016)."
   ]
  },
  {
   "cell_type": "code",
   "execution_count": 92,
   "metadata": {},
   "outputs": [],
   "source": [
    "#create table with one entry per athlete per games\n",
    "no_events = events.drop(['Sport', 'Event', 'Team', 'Medal'], axis = 1)\n",
    "no_events = no_events.drop_duplicates()"
   ]
  },
  {
   "cell_type": "code",
   "execution_count": 93,
   "metadata": {},
   "outputs": [
    {
     "data": {
      "text/html": [
       "<div>\n",
       "<style scoped>\n",
       "    .dataframe tbody tr th:only-of-type {\n",
       "        vertical-align: middle;\n",
       "    }\n",
       "\n",
       "    .dataframe tbody tr th {\n",
       "        vertical-align: top;\n",
       "    }\n",
       "\n",
       "    .dataframe thead th {\n",
       "        text-align: right;\n",
       "    }\n",
       "</style>\n",
       "<table border=\"1\" class=\"dataframe\">\n",
       "  <thead>\n",
       "    <tr style=\"text-align: right;\">\n",
       "      <th></th>\n",
       "      <th>Year</th>\n",
       "      <th>ID</th>\n",
       "      <th>Name</th>\n",
       "      <th>Sex</th>\n",
       "      <th>Age</th>\n",
       "      <th>Height</th>\n",
       "      <th>Weight</th>\n",
       "      <th>NOC</th>\n",
       "      <th>Games</th>\n",
       "      <th>Season</th>\n",
       "      <th>City</th>\n",
       "      <th>num_athletes</th>\n",
       "      <th>prop_data</th>\n",
       "    </tr>\n",
       "  </thead>\n",
       "  <tbody>\n",
       "    <tr>\n",
       "      <th>0</th>\n",
       "      <td>1896</td>\n",
       "      <td>13</td>\n",
       "      <td>13</td>\n",
       "      <td>13</td>\n",
       "      <td>11</td>\n",
       "      <td>13</td>\n",
       "      <td>13</td>\n",
       "      <td>13</td>\n",
       "      <td>13</td>\n",
       "      <td>13</td>\n",
       "      <td>13</td>\n",
       "      <td>176</td>\n",
       "      <td>0.073864</td>\n",
       "    </tr>\n",
       "    <tr>\n",
       "      <th>1</th>\n",
       "      <td>1900</td>\n",
       "      <td>35</td>\n",
       "      <td>35</td>\n",
       "      <td>35</td>\n",
       "      <td>34</td>\n",
       "      <td>35</td>\n",
       "      <td>35</td>\n",
       "      <td>35</td>\n",
       "      <td>35</td>\n",
       "      <td>35</td>\n",
       "      <td>35</td>\n",
       "      <td>1224</td>\n",
       "      <td>0.028595</td>\n",
       "    </tr>\n",
       "    <tr>\n",
       "      <th>2</th>\n",
       "      <td>1904</td>\n",
       "      <td>55</td>\n",
       "      <td>55</td>\n",
       "      <td>55</td>\n",
       "      <td>52</td>\n",
       "      <td>55</td>\n",
       "      <td>55</td>\n",
       "      <td>55</td>\n",
       "      <td>55</td>\n",
       "      <td>55</td>\n",
       "      <td>55</td>\n",
       "      <td>650</td>\n",
       "      <td>0.084615</td>\n",
       "    </tr>\n",
       "    <tr>\n",
       "      <th>3</th>\n",
       "      <td>1906</td>\n",
       "      <td>78</td>\n",
       "      <td>78</td>\n",
       "      <td>78</td>\n",
       "      <td>77</td>\n",
       "      <td>78</td>\n",
       "      <td>78</td>\n",
       "      <td>78</td>\n",
       "      <td>78</td>\n",
       "      <td>78</td>\n",
       "      <td>78</td>\n",
       "      <td>841</td>\n",
       "      <td>0.092747</td>\n",
       "    </tr>\n",
       "    <tr>\n",
       "      <th>4</th>\n",
       "      <td>1908</td>\n",
       "      <td>196</td>\n",
       "      <td>196</td>\n",
       "      <td>196</td>\n",
       "      <td>187</td>\n",
       "      <td>196</td>\n",
       "      <td>196</td>\n",
       "      <td>196</td>\n",
       "      <td>196</td>\n",
       "      <td>196</td>\n",
       "      <td>196</td>\n",
       "      <td>2024</td>\n",
       "      <td>0.096838</td>\n",
       "    </tr>\n",
       "  </tbody>\n",
       "</table>\n",
       "</div>"
      ],
      "text/plain": [
       "   Year   ID  Name  Sex  Age  Height  Weight  NOC  Games  Season  City  \\\n",
       "0  1896   13    13   13   11      13      13   13     13      13    13   \n",
       "1  1900   35    35   35   34      35      35   35     35      35    35   \n",
       "2  1904   55    55   55   52      55      55   55     55      55    55   \n",
       "3  1906   78    78   78   77      78      78   78     78      78    78   \n",
       "4  1908  196   196  196  187     196     196  196    196     196   196   \n",
       "\n",
       "   num_athletes  prop_data  \n",
       "0           176   0.073864  \n",
       "1          1224   0.028595  \n",
       "2           650   0.084615  \n",
       "3           841   0.092747  \n",
       "4          2024   0.096838  "
      ]
     },
     "execution_count": 93,
     "metadata": {},
     "output_type": "execute_result"
    }
   ],
   "source": [
    "#Find the number of entries per year that have height and weight data\n",
    "has_data = no_events[(np.isnan(no_events.Weight)==False)&(np.isnan(no_events.Height)==False)].groupby('Year').count()\n",
    "\n",
    "#Find the number of athletes per year\n",
    "athletes_per_year = no_events.groupby('Year').ID.count()\n",
    "has_data = has_data.reset_index()\n",
    "athletes_per_year = athletes_per_year.reset_index()\n",
    "\n",
    "has_data['num_athletes'] = athletes_per_year['ID']\n",
    "has_data.merge(athletes_per_year, on=\"Year\")\n",
    "\n",
    "#Calculate the proportion of athletes for whom there is weight data, by year\n",
    "has_data['prop_data'] = has_data.Weight/has_data.num_athletes\n",
    "has_data.head()"
   ]
  },
  {
   "cell_type": "code",
   "execution_count": 94,
   "metadata": {},
   "outputs": [
    {
     "data": {
      "image/png": "[encoded data removed]",
      "text/plain": [
       "<Figure size 1080x576 with 1 Axes>"
      ]
     },
     "metadata": {},
     "output_type": "display_data"
    }
   ],
   "source": [
    "plt.figure(figsize=(15,8))\n",
    "plt.bar(has_data.Year, has_data.prop_data, color='green', width = 1)\n",
    "plt.xticks(np.arange(1896, 2020, step=4), rotation=65)\n",
    "plt.title(\"Proportion of Athletes per Year for Whom There is Height/Weight Data Available\");"
   ]
  },
  {
   "cell_type": "markdown",
   "metadata": {},
   "source": [
    "The height and weight data is much more plentiful after 1960. It isn't until 1960 that there is height and weight data available for more than half of the athletes. Height and weight data is very limited for earlier years, with complete info only available for about 17% of entries for athletes in 1932 and 14% for athletes in 1928, compared to 98% for 2016 athletes."
   ]
  },
  {
   "cell_type": "markdown",
   "metadata": {},
   "source": [
    "## Create a table with one entry per athlete per Games"
   ]
  },
  {
   "cell_type": "markdown",
   "metadata": {},
   "source": [
    "This will make measures of things like average height and weight per Games more accurate, as there will be one set of height and weight data per athlete per Games, rather than multiple sets in some cases."
   ]
  },
  {
   "cell_type": "code",
   "execution_count": 95,
   "metadata": {},
   "outputs": [
    {
     "data": {
      "text/html": [
       "<div>\n",
       "<style scoped>\n",
       "    .dataframe tbody tr th:only-of-type {\n",
       "        vertical-align: middle;\n",
       "    }\n",
       "\n",
       "    .dataframe tbody tr th {\n",
       "        vertical-align: top;\n",
       "    }\n",
       "\n",
       "    .dataframe thead th {\n",
       "        text-align: right;\n",
       "    }\n",
       "</style>\n",
       "<table border=\"1\" class=\"dataframe\">\n",
       "  <thead>\n",
       "    <tr style=\"text-align: right;\">\n",
       "      <th></th>\n",
       "      <th>ID</th>\n",
       "      <th>Name</th>\n",
       "      <th>Sex</th>\n",
       "      <th>Age</th>\n",
       "      <th>Height</th>\n",
       "      <th>Weight</th>\n",
       "      <th>NOC</th>\n",
       "      <th>Games</th>\n",
       "      <th>Year</th>\n",
       "      <th>Season</th>\n",
       "      <th>City</th>\n",
       "    </tr>\n",
       "  </thead>\n",
       "  <tbody>\n",
       "    <tr>\n",
       "      <th>191406</th>\n",
       "      <td>96120</td>\n",
       "      <td>Ioan Popa</td>\n",
       "      <td>M</td>\n",
       "      <td>23.0</td>\n",
       "      <td>191.0</td>\n",
       "      <td>75.0</td>\n",
       "      <td>ROU</td>\n",
       "      <td>1976 Summer</td>\n",
       "      <td>1976</td>\n",
       "      <td>Summer</td>\n",
       "      <td>Montreal</td>\n",
       "    </tr>\n",
       "    <tr>\n",
       "      <th>191407</th>\n",
       "      <td>96120</td>\n",
       "      <td>Ioan Popa</td>\n",
       "      <td>M</td>\n",
       "      <td>27.0</td>\n",
       "      <td>191.0</td>\n",
       "      <td>75.0</td>\n",
       "      <td>ROU</td>\n",
       "      <td>1980 Summer</td>\n",
       "      <td>1980</td>\n",
       "      <td>Summer</td>\n",
       "      <td>Moskva</td>\n",
       "    </tr>\n",
       "    <tr>\n",
       "      <th>191409</th>\n",
       "      <td>96121</td>\n",
       "      <td>Ioan Popa</td>\n",
       "      <td>M</td>\n",
       "      <td>31.0</td>\n",
       "      <td>171.0</td>\n",
       "      <td>66.0</td>\n",
       "      <td>ROU</td>\n",
       "      <td>1980 Summer</td>\n",
       "      <td>1980</td>\n",
       "      <td>Summer</td>\n",
       "      <td>Moskva</td>\n",
       "    </tr>\n",
       "  </tbody>\n",
       "</table>\n",
       "</div>"
      ],
      "text/plain": [
       "           ID       Name Sex   Age  Height  Weight  NOC        Games  Year  \\\n",
       "191406  96120  Ioan Popa   M  23.0   191.0    75.0  ROU  1976 Summer  1976   \n",
       "191407  96120  Ioan Popa   M  27.0   191.0    75.0  ROU  1980 Summer  1980   \n",
       "191409  96121  Ioan Popa   M  31.0   171.0    66.0  ROU  1980 Summer  1980   \n",
       "\n",
       "        Season      City  \n",
       "191406  Summer  Montreal  \n",
       "191407  Summer    Moskva  \n",
       "191409  Summer    Moskva  "
      ]
     },
     "execution_count": 95,
     "metadata": {},
     "output_type": "execute_result"
    }
   ],
   "source": [
    "no_events = events.drop(['Sport', 'Event', 'Team', 'Medal'], axis = 1)\n",
    "no_events = no_events.drop_duplicates()\n",
    "no_events.query('Name == \"Ioan Popa\"')"
   ]
  },
  {
   "cell_type": "markdown",
   "metadata": {},
   "source": [
    "There should now be some duplicate names/IDs as seen above, but only if that individual took part in multiple Games"
   ]
  },
  {
   "cell_type": "markdown",
   "metadata": {},
   "source": [
    "## How do summer and winter athletes compare in height and weight?"
   ]
  },
  {
   "cell_type": "code",
   "execution_count": 96,
   "metadata": {},
   "outputs": [
    {
     "data": {
      "text/html": [
       "\n",
       "<div class='tableauPlaceholder' id='viz1537652388261' style='position: relative'><noscript><a href='#'><img alt='Average Height and Weight by Year, Season ' src='https:&#47;&#47;public.tableau.com&#47;static&#47;images&#47;Av&#47;AverageHeightandWeightbyYearSeason&#47;Sheet1&#47;1_rss.png' style='border: none' /></a></noscript><object class='tableauViz'  style='display:none;'><param name='host_url' value='https%3A%2F%2Fpublic.tableau.com%2F' /> <param name='embed_code_version' value='3' /> <param name='site_root' value='' /><param name='name' value='AverageHeightandWeightbyYearSeason&#47;Sheet1' /><param name='tabs' value='no' /><param name='toolbar' value='yes' /><param name='static_image' value='https:&#47;&#47;public.tableau.com&#47;static&#47;images&#47;Av&#47;AverageHeightandWeightbyYearSeason&#47;Sheet1&#47;1.png' /> <param name='animate_transition' value='yes' /><param name='display_static_image' value='yes' /><param name='display_spinner' value='yes' /><param name='display_overlay' value='yes' /><param name='display_count' value='yes' /><param name='filter' value='publish=yes' /></object></div>                <script type='text/javascript'>                    var divElement = document.getElementById('viz1537652388261');                    var vizElement = divElement.getElementsByTagName('object')[0];                    vizElement.style.width='100%';vizElement.style.height=(divElement.offsetWidth*0.75)+'px';                    var scriptElement = document.createElement('script');                    scriptElement.src = 'https://public.tableau.com/javascripts/api/viz_v1.js';                    vizElement.parentNode.insertBefore(scriptElement, vizElement);                </script>"
      ],
      "text/plain": [
       "<IPython.core.display.HTML object>"
      ]
     },
     "metadata": {},
     "output_type": "display_data"
    }
   ],
   "source": [
    "%%HTML\n",
    "\n",
    "<div class='tableauPlaceholder' id='viz1537652388261' style='position: relative'><noscript><a href='#'><img alt='Average Height and Weight by Year, Season ' src='https:&#47;&#47;public.tableau.com&#47;static&#47;images&#47;Av&#47;AverageHeightandWeightbyYearSeason&#47;Sheet1&#47;1_rss.png' style='border: none' /></a></noscript><object class='tableauViz'  style='display:none;'><param name='host_url' value='https%3A%2F%2Fpublic.tableau.com%2F' /> <param name='embed_code_version' value='3' /> <param name='site_root' value='' /><param name='name' value='AverageHeightandWeightbyYearSeason&#47;Sheet1' /><param name='tabs' value='no' /><param name='toolbar' value='yes' /><param name='static_image' value='https:&#47;&#47;public.tableau.com&#47;static&#47;images&#47;Av&#47;AverageHeightandWeightbyYearSeason&#47;Sheet1&#47;1.png' /> <param name='animate_transition' value='yes' /><param name='display_static_image' value='yes' /><param name='display_spinner' value='yes' /><param name='display_overlay' value='yes' /><param name='display_count' value='yes' /><param name='filter' value='publish=yes' /></object></div>                <script type='text/javascript'>                    var divElement = document.getElementById('viz1537652388261');                    var vizElement = divElement.getElementsByTagName('object')[0];                    vizElement.style.width='100%';vizElement.style.height=(divElement.offsetWidth*0.75)+'px';                    var scriptElement = document.createElement('script');                    scriptElement.src = 'https://public.tableau.com/javascripts/api/viz_v1.js';                    vizElement.parentNode.insertBefore(scriptElement, vizElement);                </script>"
   ]
  },
  {
   "cell_type": "markdown",
   "metadata": {},
   "source": [
    "Summer athletes tend to weigh more and be taller than winter athletes. There's a dip in height and weight around 1960, after which height and weight climb back up to another peak in 1988/1992, then more or less level off. What about BMI, a measure of tissue mass (muscle, bone, fat) in a person based on their height and weight?"
   ]
  },
  {
   "cell_type": "markdown",
   "metadata": {},
   "source": [
    "## Calculate average BMIs for each Games"
   ]
  },
  {
   "cell_type": "code",
   "execution_count": 97,
   "metadata": {},
   "outputs": [],
   "source": [
    "#create a new column with BMI for each athlete\n",
    "no_events['bmi'] = no_events.Weight/(no_events.Height / 100)**2\n",
    "\n",
    "#find the averages for bmi for each game and make separate columns for winter averages \n",
    "#and summer averages, for easier plotting\n",
    "\n",
    "summer_bmi = no_events[no_events.Season == \"Summer\"].groupby('Games').bmi.mean()\n",
    "winter_bmi = no_events[no_events.Season == \"Winter\"].groupby('Games').bmi.mean()\n",
    "\n",
    "#create dataframe with Games as the organizing variable\n",
    "games = events.groupby('Games', as_index = False).count()\n",
    "games['num_athletes'] = events.groupby('Games', as_index = False).ID.nunique()\n",
    "\n",
    "#convert to dataframe then merge to join the series created above to the games table\n",
    "winter_bmi = pd.DataFrame(winter_bmi)\n",
    "winter_bmi = winter_bmi.reset_index()\n",
    "games = games.merge(winter_bmi, on = 'Games', how = 'left')\n"
   ]
  },
  {
   "cell_type": "code",
   "execution_count": 98,
   "metadata": {},
   "outputs": [],
   "source": [
    "games = games.rename({\"bmi\": \"winter_bmi\"}, axis = \"columns\")"
   ]
  },
  {
   "cell_type": "code",
   "execution_count": 99,
   "metadata": {},
   "outputs": [],
   "source": [
    "summer_bmi = pd.DataFrame(summer_bmi)\n",
    "summer_bmi = summer_bmi.reset_index()\n",
    "games = games.merge(summer_bmi, on = 'Games', how = 'left')"
   ]
  },
  {
   "cell_type": "code",
   "execution_count": 100,
   "metadata": {},
   "outputs": [],
   "source": [
    "games = games.rename({\"bmi\": \"summer_bmi\"}, axis = \"columns\")"
   ]
  },
  {
   "cell_type": "code",
   "execution_count": 101,
   "metadata": {},
   "outputs": [
    {
     "data": {
      "image/png": "[encoded data removed]",
      "text/plain": [
       "<Figure size 1080x576 with 1 Axes>"
      ]
     },
     "metadata": {},
     "output_type": "display_data"
    }
   ],
   "source": [
    "plt.figure(figsize=(15,8))\n",
    "plt.scatter(games.Games, games.summer_bmi, s = 150, c=\"orange\")\n",
    "plt.scatter(games.Games, games.winter_bmi, s = 150, c=\"blue\")\n",
    "plt.xticks(rotation = 75)\n",
    "plt.yticks(np.arange(22.4, 24.4, step=0.2))\n",
    "plt.title('BMI in Olympic Athletes, 1896-2016')\n",
    "plt.legend(prop={'size':20});"
   ]
  },
  {
   "cell_type": "markdown",
   "metadata": {},
   "source": [
    "Though Summer athletes tend to be taller and weight more, Winter athletes tend to have higher BMIs (at least since the mid-1950s) suggesting higher muscle (or bone or fat) mass."
   ]
  },
  {
   "cell_type": "markdown",
   "metadata": {},
   "source": [
    "## Female Athletes"
   ]
  },
  {
   "cell_type": "markdown",
   "metadata": {},
   "source": [
    "Let's look at the number of female athletes per Games and the percentage of female athletes per Games"
   ]
  },
  {
   "cell_type": "code",
   "execution_count": 102,
   "metadata": {},
   "outputs": [],
   "source": [
    "#Find the number of female athletes per Games\n",
    "num_female = events[events.Sex == \"F\"].groupby('Games').ID.nunique()\n",
    "num_female = pd.DataFrame(num_female)\n",
    "num_female = num_female.reset_index()\n",
    "\n",
    "games = games.merge(num_female, on = \"Games\", how = 'left')"
   ]
  },
  {
   "cell_type": "code",
   "execution_count": 103,
   "metadata": {},
   "outputs": [],
   "source": [
    "games = games.rename({\"ID_y\" : \"num_female\"}, axis = 'columns')\n",
    "games = games.drop([ 'Name', 'Sex', 'Height', 'Weight', 'Team', 'NOC', 'Year','City'], axis = \"columns\")\n",
    "games = games.drop(['ID_x', 'Age', 'Sport', 'Event', 'Medal', 'Season'], axis = \"columns\")"
   ]
  },
  {
   "cell_type": "code",
   "execution_count": 104,
   "metadata": {},
   "outputs": [],
   "source": [
    "games['per_female'] = games.num_female/games.num_athletes\n",
    "games['season'] = games.Games.str.extract('(Summer|Winter)', expand=True)"
   ]
  },
  {
   "cell_type": "code",
   "execution_count": 105,
   "metadata": {},
   "outputs": [
    {
     "data": {
      "image/png": "[encoded data removed]",
      "text/plain": [
       "<Figure size 1080x576 with 1 Axes>"
      ]
     },
     "metadata": {},
     "output_type": "display_data"
    }
   ],
   "source": [
    "plt.figure(figsize=(15,8))\n",
    "sns.barplot(x=\"Games\", y='num_female', data=games)\n",
    "plt.xticks(rotation = 65, label=\"Games\")\n",
    "plt.ylabel('Number of Female Athletes')\n",
    "plt.title('Number of Female Athletes in Olympic Games 1896-2016');"
   ]
  },
  {
   "cell_type": "markdown",
   "metadata": {},
   "source": [
    "The number of athletes who were female climbed steadily from 0 in the Summer 1896 games to about 5,000 in Summer 2016."
   ]
  },
  {
   "cell_type": "code",
   "execution_count": 106,
   "metadata": {},
   "outputs": [
    {
     "data": {
      "text/html": [
       "\n",
       "<div class='tableauPlaceholder' id='viz1537649902135' style='position: relative'><noscript><a href='#'><img alt='Percentage of Athletes Who Were Female, by Games ' src='https:&#47;&#47;public.tableau.com&#47;static&#47;images&#47;Pe&#47;PercentageAthletesFemalebyGames&#47;Sheet2&#47;1_rss.png' style='border: none' /></a></noscript><object class='tableauViz'  style='display:none;'><param name='host_url' value='https%3A%2F%2Fpublic.tableau.com%2F' /> <param name='embed_code_version' value='3' /> <param name='site_root' value='' /><param name='name' value='PercentageAthletesFemalebyGames&#47;Sheet2' /><param name='tabs' value='no' /><param name='toolbar' value='yes' /><param name='static_image' value='https:&#47;&#47;public.tableau.com&#47;static&#47;images&#47;Pe&#47;PercentageAthletesFemalebyGames&#47;Sheet2&#47;1.png' /> <param name='animate_transition' value='yes' /><param name='display_static_image' value='yes' /><param name='display_spinner' value='yes' /><param name='display_overlay' value='yes' /><param name='display_count' value='yes' /><param name='filter' value='publish=yes' /></object></div>                <script type='text/javascript'>                    var divElement = document.getElementById('viz1537649902135');                    var vizElement = divElement.getElementsByTagName('object')[0];                    vizElement.style.width='100%';vizElement.style.height=(divElement.offsetWidth*0.75)+'px';                    var scriptElement = document.createElement('script');                    scriptElement.src = 'https://public.tableau.com/javascripts/api/viz_v1.js';                    vizElement.parentNode.insertBefore(scriptElement, vizElement);                </script>"
      ],
      "text/plain": [
       "<IPython.core.display.HTML object>"
      ]
     },
     "metadata": {},
     "output_type": "display_data"
    }
   ],
   "source": [
    "%%HTML\n",
    "\n",
    "<div class='tableauPlaceholder' id='viz1537649902135' style='position: relative'><noscript><a href='#'><img alt='Percentage of Athletes Who Were Female, by Games ' src='https:&#47;&#47;public.tableau.com&#47;static&#47;images&#47;Pe&#47;PercentageAthletesFemalebyGames&#47;Sheet2&#47;1_rss.png' style='border: none' /></a></noscript><object class='tableauViz'  style='display:none;'><param name='host_url' value='https%3A%2F%2Fpublic.tableau.com%2F' /> <param name='embed_code_version' value='3' /> <param name='site_root' value='' /><param name='name' value='PercentageAthletesFemalebyGames&#47;Sheet2' /><param name='tabs' value='no' /><param name='toolbar' value='yes' /><param name='static_image' value='https:&#47;&#47;public.tableau.com&#47;static&#47;images&#47;Pe&#47;PercentageAthletesFemalebyGames&#47;Sheet2&#47;1.png' /> <param name='animate_transition' value='yes' /><param name='display_static_image' value='yes' /><param name='display_spinner' value='yes' /><param name='display_overlay' value='yes' /><param name='display_count' value='yes' /><param name='filter' value='publish=yes' /></object></div>                <script type='text/javascript'>                    var divElement = document.getElementById('viz1537649902135');                    var vizElement = divElement.getElementsByTagName('object')[0];                    vizElement.style.width='100%';vizElement.style.height=(divElement.offsetWidth*0.75)+'px';                    var scriptElement = document.createElement('script');                    scriptElement.src = 'https://public.tableau.com/javascripts/api/viz_v1.js';                    vizElement.parentNode.insertBefore(scriptElement, vizElement);                </script>\n"
   ]
  },
  {
   "cell_type": "raw",
   "metadata": {},
   "source": [
    "Percentages of female athletes have climbed steadily as well. Summer games tend to have slightly higher percentages of female athletes than Winter games, with the exception of 1932-1968, when the reverse was true. "
   ]
  },
  {
   "cell_type": "markdown",
   "metadata": {},
   "source": [
    "## Athlete Age"
   ]
  },
  {
   "cell_type": "code",
   "execution_count": 107,
   "metadata": {},
   "outputs": [],
   "source": [
    "mean_age = no_events.groupby('Games').Age.mean()"
   ]
  },
  {
   "cell_type": "code",
   "execution_count": 108,
   "metadata": {},
   "outputs": [
    {
     "data": {
      "image/png": "[encoded data removed]",
      "text/plain": [
       "<Figure size 1080x576 with 2 Axes>"
      ]
     },
     "metadata": {},
     "output_type": "display_data"
    }
   ],
   "source": [
    "plt.subplots(2,2,figsize=(15,8))\n",
    "\n",
    "plt.subplot(121)\n",
    "plt.plot(mean_age)\n",
    "plt.xticks(np.arange(0, 60, step = 4), rotation=75)\n",
    "plt.ylabel('Age')\n",
    "plt.title('Average Age by Games');\n",
    "\n",
    "plt.subplot(122)\n",
    "sns.boxplot(x=no_events.Sex, y=no_events.Age)\n",
    "plt.title('Average Age by Sex');"
   ]
  },
  {
   "cell_type": "markdown",
   "metadata": {},
   "source": [
    "Average age for athletes remained in the 23-29 range, except in the summer of 1932 when the average was 31.27. There were several athletes in Art Competitions that Games that were in their 30s, 40s and 50s. An athlete named John Quincy Adams Ward is listed as the oldest competitor in this dataset, who competed in Art Competitions in the summer of 1928 at the age of 97. However, a Google search reveals that the sculptor was born in 1830 and died in 1910, calling this entry into question. \n",
    "\n",
    "Female competitors have a few outliers in their 70s, as seen on the plot on the right."
   ]
  },
  {
   "cell_type": "code",
   "execution_count": 109,
   "metadata": {},
   "outputs": [
    {
     "data": {
      "text/html": [
       "<div>\n",
       "<style scoped>\n",
       "    .dataframe tbody tr th:only-of-type {\n",
       "        vertical-align: middle;\n",
       "    }\n",
       "\n",
       "    .dataframe tbody tr th {\n",
       "        vertical-align: top;\n",
       "    }\n",
       "\n",
       "    .dataframe thead th {\n",
       "        text-align: right;\n",
       "    }\n",
       "</style>\n",
       "<table border=\"1\" class=\"dataframe\">\n",
       "  <thead>\n",
       "    <tr style=\"text-align: right;\">\n",
       "      <th></th>\n",
       "      <th>ID</th>\n",
       "      <th>Name</th>\n",
       "      <th>Sex</th>\n",
       "      <th>Age</th>\n",
       "      <th>Height</th>\n",
       "      <th>Weight</th>\n",
       "      <th>Team</th>\n",
       "      <th>NOC</th>\n",
       "      <th>Games</th>\n",
       "      <th>Year</th>\n",
       "      <th>Season</th>\n",
       "      <th>City</th>\n",
       "      <th>Sport</th>\n",
       "      <th>Event</th>\n",
       "      <th>Medal</th>\n",
       "    </tr>\n",
       "  </thead>\n",
       "  <tbody>\n",
       "    <tr>\n",
       "      <th>257054</th>\n",
       "      <td>128719</td>\n",
       "      <td>John Quincy Adams Ward</td>\n",
       "      <td>M</td>\n",
       "      <td>97.0</td>\n",
       "      <td>NaN</td>\n",
       "      <td>NaN</td>\n",
       "      <td>United States</td>\n",
       "      <td>USA</td>\n",
       "      <td>1928 Summer</td>\n",
       "      <td>1928</td>\n",
       "      <td>Summer</td>\n",
       "      <td>Amsterdam</td>\n",
       "      <td>Art Competitions</td>\n",
       "      <td>Art Competitions Mixed Sculpturing, Statues</td>\n",
       "      <td>NaN</td>\n",
       "    </tr>\n",
       "  </tbody>\n",
       "</table>\n",
       "</div>"
      ],
      "text/plain": [
       "            ID                    Name Sex   Age  Height  Weight  \\\n",
       "257054  128719  John Quincy Adams Ward   M  97.0     NaN     NaN   \n",
       "\n",
       "                 Team  NOC        Games  Year  Season       City  \\\n",
       "257054  United States  USA  1928 Summer  1928  Summer  Amsterdam   \n",
       "\n",
       "                   Sport                                        Event Medal  \n",
       "257054  Art Competitions  Art Competitions Mixed Sculpturing, Statues   NaN  "
      ]
     },
     "execution_count": 109,
     "metadata": {},
     "output_type": "execute_result"
    }
   ],
   "source": [
    "max_age = no_events.Age.max()\n",
    "events.query('Age==@max_age')"
   ]
  },
  {
   "cell_type": "markdown",
   "metadata": {},
   "source": [
    "## Medal Count, GDP and Population"
   ]
  },
  {
   "cell_type": "markdown",
   "metadata": {},
   "source": [
    "Let's bring in another dataset that has Gross Domestic Product (GDP) per Capita and Population  figures for the countries in the Olympics dataset."
   ]
  },
  {
   "cell_type": "code",
   "execution_count": 110,
   "metadata": {},
   "outputs": [
    {
     "data": {
      "text/html": [
       "<div>\n",
       "<style scoped>\n",
       "    .dataframe tbody tr th:only-of-type {\n",
       "        vertical-align: middle;\n",
       "    }\n",
       "\n",
       "    .dataframe tbody tr th {\n",
       "        vertical-align: top;\n",
       "    }\n",
       "\n",
       "    .dataframe thead th {\n",
       "        text-align: right;\n",
       "    }\n",
       "</style>\n",
       "<table border=\"1\" class=\"dataframe\">\n",
       "  <thead>\n",
       "    <tr style=\"text-align: right;\">\n",
       "      <th></th>\n",
       "      <th>Country</th>\n",
       "      <th>Code</th>\n",
       "      <th>Population</th>\n",
       "      <th>GDP per Capita</th>\n",
       "    </tr>\n",
       "  </thead>\n",
       "  <tbody>\n",
       "    <tr>\n",
       "      <th>0</th>\n",
       "      <td>Afghanistan</td>\n",
       "      <td>AFG</td>\n",
       "      <td>32526562.0</td>\n",
       "      <td>594.323081</td>\n",
       "    </tr>\n",
       "    <tr>\n",
       "      <th>1</th>\n",
       "      <td>Albania</td>\n",
       "      <td>ALB</td>\n",
       "      <td>2889167.0</td>\n",
       "      <td>3945.217582</td>\n",
       "    </tr>\n",
       "    <tr>\n",
       "      <th>2</th>\n",
       "      <td>Algeria</td>\n",
       "      <td>ALG</td>\n",
       "      <td>39666519.0</td>\n",
       "      <td>4206.031232</td>\n",
       "    </tr>\n",
       "    <tr>\n",
       "      <th>3</th>\n",
       "      <td>American Samoa*</td>\n",
       "      <td>ASA</td>\n",
       "      <td>55538.0</td>\n",
       "      <td>NaN</td>\n",
       "    </tr>\n",
       "    <tr>\n",
       "      <th>4</th>\n",
       "      <td>Andorra</td>\n",
       "      <td>AND</td>\n",
       "      <td>70473.0</td>\n",
       "      <td>NaN</td>\n",
       "    </tr>\n",
       "  </tbody>\n",
       "</table>\n",
       "</div>"
      ],
      "text/plain": [
       "           Country Code  Population  GDP per Capita\n",
       "0      Afghanistan  AFG  32526562.0      594.323081\n",
       "1          Albania  ALB   2889167.0     3945.217582\n",
       "2          Algeria  ALG  39666519.0     4206.031232\n",
       "3  American Samoa*  ASA     55538.0             NaN\n",
       "4          Andorra  AND     70473.0             NaN"
      ]
     },
     "execution_count": 110,
     "metadata": {},
     "output_type": "execute_result"
    }
   ],
   "source": [
    "dictionary = pd.read_csv('dictionary.csv')\n",
    "dictionary.head()"
   ]
  },
  {
   "cell_type": "code",
   "execution_count": 111,
   "metadata": {},
   "outputs": [
    {
     "data": {
      "text/html": [
       "<div>\n",
       "<style scoped>\n",
       "    .dataframe tbody tr th:only-of-type {\n",
       "        vertical-align: middle;\n",
       "    }\n",
       "\n",
       "    .dataframe tbody tr th {\n",
       "        vertical-align: top;\n",
       "    }\n",
       "\n",
       "    .dataframe thead th {\n",
       "        text-align: right;\n",
       "    }\n",
       "</style>\n",
       "<table border=\"1\" class=\"dataframe\">\n",
       "  <thead>\n",
       "    <tr style=\"text-align: right;\">\n",
       "      <th></th>\n",
       "      <th>ID</th>\n",
       "      <th>Name</th>\n",
       "      <th>Sex</th>\n",
       "      <th>Age</th>\n",
       "      <th>Height</th>\n",
       "      <th>Weight</th>\n",
       "      <th>Team</th>\n",
       "      <th>NOC</th>\n",
       "      <th>Games</th>\n",
       "      <th>Year</th>\n",
       "      <th>Season</th>\n",
       "      <th>City</th>\n",
       "      <th>Sport</th>\n",
       "      <th>Event</th>\n",
       "      <th>Medal_Bronze</th>\n",
       "      <th>Medal_Gold</th>\n",
       "      <th>Medal_Silver</th>\n",
       "    </tr>\n",
       "  </thead>\n",
       "  <tbody>\n",
       "    <tr>\n",
       "      <th>0</th>\n",
       "      <td>1</td>\n",
       "      <td>A Dijiang</td>\n",
       "      <td>M</td>\n",
       "      <td>24.0</td>\n",
       "      <td>180.0</td>\n",
       "      <td>80.0</td>\n",
       "      <td>China</td>\n",
       "      <td>CHN</td>\n",
       "      <td>1992 Summer</td>\n",
       "      <td>1992</td>\n",
       "      <td>Summer</td>\n",
       "      <td>Barcelona</td>\n",
       "      <td>Basketball</td>\n",
       "      <td>Basketball Men's Basketball</td>\n",
       "      <td>0</td>\n",
       "      <td>0</td>\n",
       "      <td>0</td>\n",
       "    </tr>\n",
       "    <tr>\n",
       "      <th>1</th>\n",
       "      <td>2</td>\n",
       "      <td>A Lamusi</td>\n",
       "      <td>M</td>\n",
       "      <td>23.0</td>\n",
       "      <td>170.0</td>\n",
       "      <td>60.0</td>\n",
       "      <td>China</td>\n",
       "      <td>CHN</td>\n",
       "      <td>2012 Summer</td>\n",
       "      <td>2012</td>\n",
       "      <td>Summer</td>\n",
       "      <td>London</td>\n",
       "      <td>Judo</td>\n",
       "      <td>Judo Men's Extra-Lightweight</td>\n",
       "      <td>0</td>\n",
       "      <td>0</td>\n",
       "      <td>0</td>\n",
       "    </tr>\n",
       "    <tr>\n",
       "      <th>2</th>\n",
       "      <td>3</td>\n",
       "      <td>Gunnar Nielsen Aaby</td>\n",
       "      <td>M</td>\n",
       "      <td>24.0</td>\n",
       "      <td>NaN</td>\n",
       "      <td>NaN</td>\n",
       "      <td>Denmark</td>\n",
       "      <td>DEN</td>\n",
       "      <td>1920 Summer</td>\n",
       "      <td>1920</td>\n",
       "      <td>Summer</td>\n",
       "      <td>Antwerpen</td>\n",
       "      <td>Football</td>\n",
       "      <td>Football Men's Football</td>\n",
       "      <td>0</td>\n",
       "      <td>0</td>\n",
       "      <td>0</td>\n",
       "    </tr>\n",
       "    <tr>\n",
       "      <th>3</th>\n",
       "      <td>4</td>\n",
       "      <td>Edgar Lindenau Aabye</td>\n",
       "      <td>M</td>\n",
       "      <td>34.0</td>\n",
       "      <td>NaN</td>\n",
       "      <td>NaN</td>\n",
       "      <td>Denmark/Sweden</td>\n",
       "      <td>DEN</td>\n",
       "      <td>1900 Summer</td>\n",
       "      <td>1900</td>\n",
       "      <td>Summer</td>\n",
       "      <td>Paris</td>\n",
       "      <td>Tug-Of-War</td>\n",
       "      <td>Tug-Of-War Men's Tug-Of-War</td>\n",
       "      <td>0</td>\n",
       "      <td>1</td>\n",
       "      <td>0</td>\n",
       "    </tr>\n",
       "    <tr>\n",
       "      <th>4</th>\n",
       "      <td>5</td>\n",
       "      <td>Christine Jacoba Aaftink</td>\n",
       "      <td>F</td>\n",
       "      <td>21.0</td>\n",
       "      <td>185.0</td>\n",
       "      <td>82.0</td>\n",
       "      <td>Netherlands</td>\n",
       "      <td>NED</td>\n",
       "      <td>1988 Winter</td>\n",
       "      <td>1988</td>\n",
       "      <td>Winter</td>\n",
       "      <td>Calgary</td>\n",
       "      <td>Speed Skating</td>\n",
       "      <td>Speed Skating Women's 500 metres</td>\n",
       "      <td>0</td>\n",
       "      <td>0</td>\n",
       "      <td>0</td>\n",
       "    </tr>\n",
       "  </tbody>\n",
       "</table>\n",
       "</div>"
      ],
      "text/plain": [
       "   ID                      Name Sex   Age  Height  Weight            Team  \\\n",
       "0   1                 A Dijiang   M  24.0   180.0    80.0           China   \n",
       "1   2                  A Lamusi   M  23.0   170.0    60.0           China   \n",
       "2   3       Gunnar Nielsen Aaby   M  24.0     NaN     NaN         Denmark   \n",
       "3   4      Edgar Lindenau Aabye   M  34.0     NaN     NaN  Denmark/Sweden   \n",
       "4   5  Christine Jacoba Aaftink   F  21.0   185.0    82.0     Netherlands   \n",
       "\n",
       "   NOC        Games  Year  Season       City          Sport  \\\n",
       "0  CHN  1992 Summer  1992  Summer  Barcelona     Basketball   \n",
       "1  CHN  2012 Summer  2012  Summer     London           Judo   \n",
       "2  DEN  1920 Summer  1920  Summer  Antwerpen       Football   \n",
       "3  DEN  1900 Summer  1900  Summer      Paris     Tug-Of-War   \n",
       "4  NED  1988 Winter  1988  Winter    Calgary  Speed Skating   \n",
       "\n",
       "                              Event  Medal_Bronze  Medal_Gold  Medal_Silver  \n",
       "0       Basketball Men's Basketball             0           0             0  \n",
       "1      Judo Men's Extra-Lightweight             0           0             0  \n",
       "2           Football Men's Football             0           0             0  \n",
       "3       Tug-Of-War Men's Tug-Of-War             0           1             0  \n",
       "4  Speed Skating Women's 500 metres             0           0             0  "
      ]
     },
     "execution_count": 111,
     "metadata": {},
     "output_type": "execute_result"
    }
   ],
   "source": [
    "#Format the medal column into three binary columns for easier tallying of medals\n",
    "\n",
    "events = pd.get_dummies(events, columns = ['Medal'])\n",
    "events.head()"
   ]
  },
  {
   "cell_type": "code",
   "execution_count": 112,
   "metadata": {},
   "outputs": [
    {
     "name": "stdout",
     "output_type": "stream",
     "text": [
      "<class 'pandas.core.frame.DataFrame'>\n",
      "RangeIndex: 271116 entries, 0 to 271115\n",
      "Data columns (total 17 columns):\n",
      "ID              271116 non-null int64\n",
      "Name            271116 non-null object\n",
      "Sex             271116 non-null object\n",
      "Age             261642 non-null float64\n",
      "Height          210945 non-null float64\n",
      "Weight          208241 non-null float64\n",
      "Team            271116 non-null object\n",
      "NOC             271116 non-null object\n",
      "Games           271116 non-null object\n",
      "Year            271116 non-null int64\n",
      "Season          271116 non-null object\n",
      "City            271116 non-null object\n",
      "Sport           271116 non-null object\n",
      "Event           271116 non-null object\n",
      "Medal_Bronze    271116 non-null uint8\n",
      "Medal_Gold      271116 non-null uint8\n",
      "Medal_Silver    271116 non-null uint8\n",
      "dtypes: float64(3), int64(2), object(9), uint8(3)\n",
      "memory usage: 29.7+ MB\n"
     ]
    }
   ],
   "source": [
    "pd.to_numeric(events.Medal_Bronze)\n",
    "events.info()"
   ]
  },
  {
   "cell_type": "code",
   "execution_count": 113,
   "metadata": {},
   "outputs": [],
   "source": [
    "dictionary = dictionary.rename(columns = {'Code':'NOC'})"
   ]
  },
  {
   "cell_type": "code",
   "execution_count": 114,
   "metadata": {},
   "outputs": [
    {
     "data": {
      "text/html": [
       "<div>\n",
       "<style scoped>\n",
       "    .dataframe tbody tr th:only-of-type {\n",
       "        vertical-align: middle;\n",
       "    }\n",
       "\n",
       "    .dataframe tbody tr th {\n",
       "        vertical-align: top;\n",
       "    }\n",
       "\n",
       "    .dataframe thead th {\n",
       "        text-align: right;\n",
       "    }\n",
       "</style>\n",
       "<table border=\"1\" class=\"dataframe\">\n",
       "  <thead>\n",
       "    <tr style=\"text-align: right;\">\n",
       "      <th></th>\n",
       "      <th>ID</th>\n",
       "      <th>Name</th>\n",
       "      <th>Sex</th>\n",
       "      <th>Age</th>\n",
       "      <th>Height</th>\n",
       "      <th>Weight</th>\n",
       "      <th>Team</th>\n",
       "      <th>NOC</th>\n",
       "      <th>Games</th>\n",
       "      <th>Year</th>\n",
       "      <th>Season</th>\n",
       "      <th>City</th>\n",
       "      <th>Sport</th>\n",
       "      <th>Event</th>\n",
       "      <th>Medal_Bronze</th>\n",
       "      <th>Medal_Gold</th>\n",
       "      <th>Medal_Silver</th>\n",
       "    </tr>\n",
       "  </thead>\n",
       "  <tbody>\n",
       "    <tr>\n",
       "      <th>0</th>\n",
       "      <td>1</td>\n",
       "      <td>A Dijiang</td>\n",
       "      <td>M</td>\n",
       "      <td>24.0</td>\n",
       "      <td>180.0</td>\n",
       "      <td>80.0</td>\n",
       "      <td>China</td>\n",
       "      <td>CHN</td>\n",
       "      <td>1992 Summer</td>\n",
       "      <td>1992</td>\n",
       "      <td>Summer</td>\n",
       "      <td>Barcelona</td>\n",
       "      <td>Basketball</td>\n",
       "      <td>Basketball Men's Basketball</td>\n",
       "      <td>0</td>\n",
       "      <td>0</td>\n",
       "      <td>0</td>\n",
       "    </tr>\n",
       "    <tr>\n",
       "      <th>1</th>\n",
       "      <td>2</td>\n",
       "      <td>A Lamusi</td>\n",
       "      <td>M</td>\n",
       "      <td>23.0</td>\n",
       "      <td>170.0</td>\n",
       "      <td>60.0</td>\n",
       "      <td>China</td>\n",
       "      <td>CHN</td>\n",
       "      <td>2012 Summer</td>\n",
       "      <td>2012</td>\n",
       "      <td>Summer</td>\n",
       "      <td>London</td>\n",
       "      <td>Judo</td>\n",
       "      <td>Judo Men's Extra-Lightweight</td>\n",
       "      <td>0</td>\n",
       "      <td>0</td>\n",
       "      <td>0</td>\n",
       "    </tr>\n",
       "    <tr>\n",
       "      <th>2</th>\n",
       "      <td>3</td>\n",
       "      <td>Gunnar Nielsen Aaby</td>\n",
       "      <td>M</td>\n",
       "      <td>24.0</td>\n",
       "      <td>NaN</td>\n",
       "      <td>NaN</td>\n",
       "      <td>Denmark</td>\n",
       "      <td>DEN</td>\n",
       "      <td>1920 Summer</td>\n",
       "      <td>1920</td>\n",
       "      <td>Summer</td>\n",
       "      <td>Antwerpen</td>\n",
       "      <td>Football</td>\n",
       "      <td>Football Men's Football</td>\n",
       "      <td>0</td>\n",
       "      <td>0</td>\n",
       "      <td>0</td>\n",
       "    </tr>\n",
       "    <tr>\n",
       "      <th>3</th>\n",
       "      <td>4</td>\n",
       "      <td>Edgar Lindenau Aabye</td>\n",
       "      <td>M</td>\n",
       "      <td>34.0</td>\n",
       "      <td>NaN</td>\n",
       "      <td>NaN</td>\n",
       "      <td>Denmark/Sweden</td>\n",
       "      <td>DEN</td>\n",
       "      <td>1900 Summer</td>\n",
       "      <td>1900</td>\n",
       "      <td>Summer</td>\n",
       "      <td>Paris</td>\n",
       "      <td>Tug-Of-War</td>\n",
       "      <td>Tug-Of-War Men's Tug-Of-War</td>\n",
       "      <td>0</td>\n",
       "      <td>1</td>\n",
       "      <td>0</td>\n",
       "    </tr>\n",
       "    <tr>\n",
       "      <th>4</th>\n",
       "      <td>5</td>\n",
       "      <td>Christine Jacoba Aaftink</td>\n",
       "      <td>F</td>\n",
       "      <td>21.0</td>\n",
       "      <td>185.0</td>\n",
       "      <td>82.0</td>\n",
       "      <td>Netherlands</td>\n",
       "      <td>NED</td>\n",
       "      <td>1988 Winter</td>\n",
       "      <td>1988</td>\n",
       "      <td>Winter</td>\n",
       "      <td>Calgary</td>\n",
       "      <td>Speed Skating</td>\n",
       "      <td>Speed Skating Women's 500 metres</td>\n",
       "      <td>0</td>\n",
       "      <td>0</td>\n",
       "      <td>0</td>\n",
       "    </tr>\n",
       "  </tbody>\n",
       "</table>\n",
       "</div>"
      ],
      "text/plain": [
       "   ID                      Name Sex   Age  Height  Weight            Team  \\\n",
       "0   1                 A Dijiang   M  24.0   180.0    80.0           China   \n",
       "1   2                  A Lamusi   M  23.0   170.0    60.0           China   \n",
       "2   3       Gunnar Nielsen Aaby   M  24.0     NaN     NaN         Denmark   \n",
       "3   4      Edgar Lindenau Aabye   M  34.0     NaN     NaN  Denmark/Sweden   \n",
       "4   5  Christine Jacoba Aaftink   F  21.0   185.0    82.0     Netherlands   \n",
       "\n",
       "   NOC        Games  Year  Season       City          Sport  \\\n",
       "0  CHN  1992 Summer  1992  Summer  Barcelona     Basketball   \n",
       "1  CHN  2012 Summer  2012  Summer     London           Judo   \n",
       "2  DEN  1920 Summer  1920  Summer  Antwerpen       Football   \n",
       "3  DEN  1900 Summer  1900  Summer      Paris     Tug-Of-War   \n",
       "4  NED  1988 Winter  1988  Winter    Calgary  Speed Skating   \n",
       "\n",
       "                              Event  Medal_Bronze  Medal_Gold  Medal_Silver  \n",
       "0       Basketball Men's Basketball             0           0             0  \n",
       "1      Judo Men's Extra-Lightweight             0           0             0  \n",
       "2           Football Men's Football             0           0             0  \n",
       "3       Tug-Of-War Men's Tug-Of-War             0           1             0  \n",
       "4  Speed Skating Women's 500 metres             0           0             0  "
      ]
     },
     "execution_count": 114,
     "metadata": {},
     "output_type": "execute_result"
    }
   ],
   "source": [
    "events.head()"
   ]
  },
  {
   "cell_type": "markdown",
   "metadata": {},
   "source": [
    "## Do teams from countries with higher GDP or populations win more medals?"
   ]
  },
  {
   "cell_type": "code",
   "execution_count": 115,
   "metadata": {},
   "outputs": [],
   "source": [
    "country_gold = events.groupby('NOC').Medal_Gold.sum()\n",
    "country_gold = pd.DataFrame(country_gold)\n",
    "country_gold = country_gold.reset_index()"
   ]
  },
  {
   "cell_type": "code",
   "execution_count": 116,
   "metadata": {},
   "outputs": [],
   "source": [
    "country_silver = events.groupby('NOC').Medal_Silver.sum()\n",
    "country_silver = pd.DataFrame(country_silver)\n",
    "country_silver = country_silver.reset_index()"
   ]
  },
  {
   "cell_type": "code",
   "execution_count": 117,
   "metadata": {},
   "outputs": [],
   "source": [
    "country_bronze = events.groupby('NOC').Medal_Bronze.sum()\n",
    "country_bronze = pd.DataFrame(country_bronze)\n",
    "country_bronze = country_bronze.reset_index()"
   ]
  },
  {
   "cell_type": "code",
   "execution_count": 118,
   "metadata": {},
   "outputs": [],
   "source": [
    "dictionary = dictionary.merge(country_gold, on = 'NOC', how = 'left' )"
   ]
  },
  {
   "cell_type": "code",
   "execution_count": 119,
   "metadata": {},
   "outputs": [],
   "source": [
    "dictionary = dictionary.merge(country_silver, on = 'NOC', how = 'left' )"
   ]
  },
  {
   "cell_type": "code",
   "execution_count": 120,
   "metadata": {},
   "outputs": [],
   "source": [
    "dictionary = dictionary.merge(country_bronze, on = 'NOC', how = 'left' )"
   ]
  },
  {
   "cell_type": "code",
   "execution_count": 121,
   "metadata": {},
   "outputs": [],
   "source": [
    "dictionary = dictionary.rename(columns = {'GDP per Capita': 'GDP'})"
   ]
  },
  {
   "cell_type": "code",
   "execution_count": 123,
   "metadata": {},
   "outputs": [
    {
     "data": {
      "text/html": [
       "<div>\n",
       "<style scoped>\n",
       "    .dataframe tbody tr th:only-of-type {\n",
       "        vertical-align: middle;\n",
       "    }\n",
       "\n",
       "    .dataframe tbody tr th {\n",
       "        vertical-align: top;\n",
       "    }\n",
       "\n",
       "    .dataframe thead th {\n",
       "        text-align: right;\n",
       "    }\n",
       "</style>\n",
       "<table border=\"1\" class=\"dataframe\">\n",
       "  <thead>\n",
       "    <tr style=\"text-align: right;\">\n",
       "      <th></th>\n",
       "      <th>Population</th>\n",
       "      <th>GDP</th>\n",
       "      <th>Medal_Gold</th>\n",
       "      <th>Medal_Silver</th>\n",
       "      <th>Medal_Bronze</th>\n",
       "    </tr>\n",
       "  </thead>\n",
       "  <tbody>\n",
       "    <tr>\n",
       "      <th>Population</th>\n",
       "      <td>1.000000</td>\n",
       "      <td>-0.042539</td>\n",
       "      <td>0.245824</td>\n",
       "      <td>0.225465</td>\n",
       "      <td>0.211459</td>\n",
       "    </tr>\n",
       "    <tr>\n",
       "      <th>GDP</th>\n",
       "      <td>-0.042539</td>\n",
       "      <td>1.000000</td>\n",
       "      <td>0.413621</td>\n",
       "      <td>0.507065</td>\n",
       "      <td>0.518028</td>\n",
       "    </tr>\n",
       "    <tr>\n",
       "      <th>Medal_Gold</th>\n",
       "      <td>0.245824</td>\n",
       "      <td>0.413621</td>\n",
       "      <td>1.000000</td>\n",
       "      <td>0.957019</td>\n",
       "      <td>0.916090</td>\n",
       "    </tr>\n",
       "    <tr>\n",
       "      <th>Medal_Silver</th>\n",
       "      <td>0.225465</td>\n",
       "      <td>0.507065</td>\n",
       "      <td>0.957019</td>\n",
       "      <td>1.000000</td>\n",
       "      <td>0.984491</td>\n",
       "    </tr>\n",
       "    <tr>\n",
       "      <th>Medal_Bronze</th>\n",
       "      <td>0.211459</td>\n",
       "      <td>0.518028</td>\n",
       "      <td>0.916090</td>\n",
       "      <td>0.984491</td>\n",
       "      <td>1.000000</td>\n",
       "    </tr>\n",
       "  </tbody>\n",
       "</table>\n",
       "</div>"
      ],
      "text/plain": [
       "              Population       GDP  Medal_Gold  Medal_Silver  Medal_Bronze\n",
       "Population      1.000000 -0.042539    0.245824      0.225465      0.211459\n",
       "GDP            -0.042539  1.000000    0.413621      0.507065      0.518028\n",
       "Medal_Gold      0.245824  0.413621    1.000000      0.957019      0.916090\n",
       "Medal_Silver    0.225465  0.507065    0.957019      1.000000      0.984491\n",
       "Medal_Bronze    0.211459  0.518028    0.916090      0.984491      1.000000"
      ]
     },
     "execution_count": 123,
     "metadata": {},
     "output_type": "execute_result"
    }
   ],
   "source": [
    "dictionary.corr()"
   ]
  },
  {
   "cell_type": "code",
   "execution_count": 124,
   "metadata": {},
   "outputs": [
    {
     "data": {
      "image/png": "[encoded data removed]",
      "text/plain": [
       "<Figure size 864x432 with 2 Axes>"
      ]
     },
     "metadata": {},
     "output_type": "display_data"
    }
   ],
   "source": [
    "plt.subplots(2,2,figsize=(12,6))\n",
    "\n",
    "plt.subplot(121)\n",
    "plt.scatter(x= dictionary.Population, y = dictionary.Medal_Gold, c='black')\n",
    "plt.xlabel('Population')\n",
    "plt.ylabel('Gold Medal Count');\n",
    "\n",
    "plt.subplot(122)\n",
    "plt.scatter(x= dictionary.GDP, y = dictionary.Medal_Gold, c='green')\n",
    "plt.xlabel('GDP')\n",
    "plt.ylabel('Gold Medal Count');"
   ]
  },
  {
   "cell_type": "code",
   "execution_count": 125,
   "metadata": {},
   "outputs": [],
   "source": [
    "gold_order = dictionary.sort_values('Medal_Gold', ascending=False)"
   ]
  },
  {
   "cell_type": "code",
   "execution_count": 126,
   "metadata": {},
   "outputs": [
    {
     "data": {
      "text/html": [
       "<div>\n",
       "<style scoped>\n",
       "    .dataframe tbody tr th:only-of-type {\n",
       "        vertical-align: middle;\n",
       "    }\n",
       "\n",
       "    .dataframe tbody tr th {\n",
       "        vertical-align: top;\n",
       "    }\n",
       "\n",
       "    .dataframe thead th {\n",
       "        text-align: right;\n",
       "    }\n",
       "</style>\n",
       "<table border=\"1\" class=\"dataframe\">\n",
       "  <thead>\n",
       "    <tr style=\"text-align: right;\">\n",
       "      <th></th>\n",
       "      <th>Country</th>\n",
       "      <th>NOC</th>\n",
       "      <th>Population</th>\n",
       "      <th>GDP</th>\n",
       "      <th>Medal_Gold</th>\n",
       "      <th>Medal_Silver</th>\n",
       "      <th>Medal_Bronze</th>\n",
       "    </tr>\n",
       "  </thead>\n",
       "  <tbody>\n",
       "    <tr>\n",
       "      <th>191</th>\n",
       "      <td>United States</td>\n",
       "      <td>USA</td>\n",
       "      <td>3.214188e+08</td>\n",
       "      <td>56115.718426</td>\n",
       "      <td>2638.0</td>\n",
       "      <td>1641.0</td>\n",
       "      <td>1358.0</td>\n",
       "    </tr>\n",
       "    <tr>\n",
       "      <th>70</th>\n",
       "      <td>Germany</td>\n",
       "      <td>GER</td>\n",
       "      <td>8.141314e+07</td>\n",
       "      <td>41313.313995</td>\n",
       "      <td>745.0</td>\n",
       "      <td>674.0</td>\n",
       "      <td>746.0</td>\n",
       "    </tr>\n",
       "    <tr>\n",
       "      <th>190</th>\n",
       "      <td>United Kingdom</td>\n",
       "      <td>GBR</td>\n",
       "      <td>6.513823e+07</td>\n",
       "      <td>43875.969614</td>\n",
       "      <td>678.0</td>\n",
       "      <td>739.0</td>\n",
       "      <td>651.0</td>\n",
       "    </tr>\n",
       "    <tr>\n",
       "      <th>90</th>\n",
       "      <td>Italy</td>\n",
       "      <td>ITA</td>\n",
       "      <td>6.080208e+07</td>\n",
       "      <td>29957.804315</td>\n",
       "      <td>575.0</td>\n",
       "      <td>531.0</td>\n",
       "      <td>531.0</td>\n",
       "    </tr>\n",
       "    <tr>\n",
       "      <th>66</th>\n",
       "      <td>France</td>\n",
       "      <td>FRA</td>\n",
       "      <td>6.680838e+07</td>\n",
       "      <td>36205.568102</td>\n",
       "      <td>501.0</td>\n",
       "      <td>610.0</td>\n",
       "      <td>666.0</td>\n",
       "    </tr>\n",
       "    <tr>\n",
       "      <th>174</th>\n",
       "      <td>Sweden</td>\n",
       "      <td>SWE</td>\n",
       "      <td>9.798871e+06</td>\n",
       "      <td>50579.673649</td>\n",
       "      <td>479.0</td>\n",
       "      <td>522.0</td>\n",
       "      <td>535.0</td>\n",
       "    </tr>\n",
       "    <tr>\n",
       "      <th>34</th>\n",
       "      <td>Canada</td>\n",
       "      <td>CAN</td>\n",
       "      <td>3.585177e+07</td>\n",
       "      <td>43248.529909</td>\n",
       "      <td>463.0</td>\n",
       "      <td>438.0</td>\n",
       "      <td>451.0</td>\n",
       "    </tr>\n",
       "    <tr>\n",
       "      <th>82</th>\n",
       "      <td>Hungary</td>\n",
       "      <td>HUN</td>\n",
       "      <td>9.844686e+06</td>\n",
       "      <td>12363.543460</td>\n",
       "      <td>432.0</td>\n",
       "      <td>332.0</td>\n",
       "      <td>371.0</td>\n",
       "    </tr>\n",
       "    <tr>\n",
       "      <th>150</th>\n",
       "      <td>Russia</td>\n",
       "      <td>RUS</td>\n",
       "      <td>1.440968e+08</td>\n",
       "      <td>9092.580536</td>\n",
       "      <td>390.0</td>\n",
       "      <td>367.0</td>\n",
       "      <td>408.0</td>\n",
       "    </tr>\n",
       "    <tr>\n",
       "      <th>135</th>\n",
       "      <td>Norway</td>\n",
       "      <td>NOR</td>\n",
       "      <td>5.195921e+06</td>\n",
       "      <td>74400.369777</td>\n",
       "      <td>378.0</td>\n",
       "      <td>361.0</td>\n",
       "      <td>294.0</td>\n",
       "    </tr>\n",
       "    <tr>\n",
       "      <th>40</th>\n",
       "      <td>China</td>\n",
       "      <td>CHN</td>\n",
       "      <td>1.371220e+09</td>\n",
       "      <td>8027.683810</td>\n",
       "      <td>350.0</td>\n",
       "      <td>347.0</td>\n",
       "      <td>292.0</td>\n",
       "    </tr>\n",
       "    <tr>\n",
       "      <th>10</th>\n",
       "      <td>Australia</td>\n",
       "      <td>AUS</td>\n",
       "      <td>2.378117e+07</td>\n",
       "      <td>56310.962993</td>\n",
       "      <td>348.0</td>\n",
       "      <td>455.0</td>\n",
       "      <td>517.0</td>\n",
       "    </tr>\n",
       "    <tr>\n",
       "      <th>129</th>\n",
       "      <td>Netherlands</td>\n",
       "      <td>NED</td>\n",
       "      <td>1.693652e+07</td>\n",
       "      <td>44299.768085</td>\n",
       "      <td>287.0</td>\n",
       "      <td>340.0</td>\n",
       "      <td>413.0</td>\n",
       "    </tr>\n",
       "    <tr>\n",
       "      <th>92</th>\n",
       "      <td>Japan</td>\n",
       "      <td>JPN</td>\n",
       "      <td>1.269585e+08</td>\n",
       "      <td>32477.215145</td>\n",
       "      <td>247.0</td>\n",
       "      <td>309.0</td>\n",
       "      <td>357.0</td>\n",
       "    </tr>\n",
       "    <tr>\n",
       "      <th>97</th>\n",
       "      <td>Korea, South</td>\n",
       "      <td>KOR</td>\n",
       "      <td>5.061704e+07</td>\n",
       "      <td>27221.524051</td>\n",
       "      <td>221.0</td>\n",
       "      <td>232.0</td>\n",
       "      <td>185.0</td>\n",
       "    </tr>\n",
       "    <tr>\n",
       "      <th>65</th>\n",
       "      <td>Finland</td>\n",
       "      <td>FIN</td>\n",
       "      <td>5.482013e+06</td>\n",
       "      <td>42311.036231</td>\n",
       "      <td>198.0</td>\n",
       "      <td>270.0</td>\n",
       "      <td>432.0</td>\n",
       "    </tr>\n",
       "    <tr>\n",
       "      <th>52</th>\n",
       "      <td>Denmark</td>\n",
       "      <td>DEN</td>\n",
       "      <td>5.676002e+06</td>\n",
       "      <td>51989.293471</td>\n",
       "      <td>179.0</td>\n",
       "      <td>241.0</td>\n",
       "      <td>177.0</td>\n",
       "    </tr>\n",
       "    <tr>\n",
       "      <th>175</th>\n",
       "      <td>Switzerland</td>\n",
       "      <td>SUI</td>\n",
       "      <td>8.286976e+06</td>\n",
       "      <td>80945.079219</td>\n",
       "      <td>175.0</td>\n",
       "      <td>248.0</td>\n",
       "      <td>268.0</td>\n",
       "    </tr>\n",
       "    <tr>\n",
       "      <th>49</th>\n",
       "      <td>Cuba</td>\n",
       "      <td>CUB</td>\n",
       "      <td>1.138956e+07</td>\n",
       "      <td>NaN</td>\n",
       "      <td>164.0</td>\n",
       "      <td>129.0</td>\n",
       "      <td>116.0</td>\n",
       "    </tr>\n",
       "    <tr>\n",
       "      <th>84</th>\n",
       "      <td>India</td>\n",
       "      <td>IND</td>\n",
       "      <td>1.311051e+09</td>\n",
       "      <td>1598.259034</td>\n",
       "      <td>138.0</td>\n",
       "      <td>19.0</td>\n",
       "      <td>40.0</td>\n",
       "    </tr>\n",
       "    <tr>\n",
       "      <th>145</th>\n",
       "      <td>Poland</td>\n",
       "      <td>POL</td>\n",
       "      <td>3.799949e+07</td>\n",
       "      <td>12554.547554</td>\n",
       "      <td>117.0</td>\n",
       "      <td>195.0</td>\n",
       "      <td>253.0</td>\n",
       "    </tr>\n",
       "    <tr>\n",
       "      <th>169</th>\n",
       "      <td>Spain</td>\n",
       "      <td>ESP</td>\n",
       "      <td>4.641827e+07</td>\n",
       "      <td>25831.582305</td>\n",
       "      <td>110.0</td>\n",
       "      <td>243.0</td>\n",
       "      <td>136.0</td>\n",
       "    </tr>\n",
       "    <tr>\n",
       "      <th>26</th>\n",
       "      <td>Brazil</td>\n",
       "      <td>BRA</td>\n",
       "      <td>2.078475e+08</td>\n",
       "      <td>8538.589975</td>\n",
       "      <td>109.0</td>\n",
       "      <td>175.0</td>\n",
       "      <td>191.0</td>\n",
       "    </tr>\n",
       "    <tr>\n",
       "      <th>11</th>\n",
       "      <td>Austria</td>\n",
       "      <td>AUT</td>\n",
       "      <td>8.611088e+06</td>\n",
       "      <td>43774.985174</td>\n",
       "      <td>108.0</td>\n",
       "      <td>186.0</td>\n",
       "      <td>156.0</td>\n",
       "    </tr>\n",
       "    <tr>\n",
       "      <th>18</th>\n",
       "      <td>Belgium</td>\n",
       "      <td>BEL</td>\n",
       "      <td>1.128572e+07</td>\n",
       "      <td>40324.027766</td>\n",
       "      <td>98.0</td>\n",
       "      <td>197.0</td>\n",
       "      <td>173.0</td>\n",
       "    </tr>\n",
       "    <tr>\n",
       "      <th>7</th>\n",
       "      <td>Argentina</td>\n",
       "      <td>ARG</td>\n",
       "      <td>4.341676e+07</td>\n",
       "      <td>13431.878340</td>\n",
       "      <td>91.0</td>\n",
       "      <td>92.0</td>\n",
       "      <td>91.0</td>\n",
       "    </tr>\n",
       "    <tr>\n",
       "      <th>131</th>\n",
       "      <td>New Zealand</td>\n",
       "      <td>NZL</td>\n",
       "      <td>4.595700e+06</td>\n",
       "      <td>37807.967276</td>\n",
       "      <td>90.0</td>\n",
       "      <td>56.0</td>\n",
       "      <td>82.0</td>\n",
       "    </tr>\n",
       "    <tr>\n",
       "      <th>72</th>\n",
       "      <td>Greece</td>\n",
       "      <td>GRE</td>\n",
       "      <td>1.082373e+07</td>\n",
       "      <td>18002.230578</td>\n",
       "      <td>62.0</td>\n",
       "      <td>109.0</td>\n",
       "      <td>84.0</td>\n",
       "    </tr>\n",
       "    <tr>\n",
       "      <th>48</th>\n",
       "      <td>Croatia</td>\n",
       "      <td>CRO</td>\n",
       "      <td>4.224404e+06</td>\n",
       "      <td>11535.829356</td>\n",
       "      <td>58.0</td>\n",
       "      <td>54.0</td>\n",
       "      <td>37.0</td>\n",
       "    </tr>\n",
       "    <tr>\n",
       "      <th>29</th>\n",
       "      <td>Bulgaria</td>\n",
       "      <td>BUL</td>\n",
       "      <td>7.177991e+06</td>\n",
       "      <td>6993.477360</td>\n",
       "      <td>54.0</td>\n",
       "      <td>144.0</td>\n",
       "      <td>144.0</td>\n",
       "    </tr>\n",
       "  </tbody>\n",
       "</table>\n",
       "</div>"
      ],
      "text/plain": [
       "            Country  NOC    Population           GDP  Medal_Gold  \\\n",
       "191   United States  USA  3.214188e+08  56115.718426      2638.0   \n",
       "70          Germany  GER  8.141314e+07  41313.313995       745.0   \n",
       "190  United Kingdom  GBR  6.513823e+07  43875.969614       678.0   \n",
       "90            Italy  ITA  6.080208e+07  29957.804315       575.0   \n",
       "66           France  FRA  6.680838e+07  36205.568102       501.0   \n",
       "174          Sweden  SWE  9.798871e+06  50579.673649       479.0   \n",
       "34           Canada  CAN  3.585177e+07  43248.529909       463.0   \n",
       "82          Hungary  HUN  9.844686e+06  12363.543460       432.0   \n",
       "150          Russia  RUS  1.440968e+08   9092.580536       390.0   \n",
       "135          Norway  NOR  5.195921e+06  74400.369777       378.0   \n",
       "40            China  CHN  1.371220e+09   8027.683810       350.0   \n",
       "10        Australia  AUS  2.378117e+07  56310.962993       348.0   \n",
       "129     Netherlands  NED  1.693652e+07  44299.768085       287.0   \n",
       "92            Japan  JPN  1.269585e+08  32477.215145       247.0   \n",
       "97     Korea, South  KOR  5.061704e+07  27221.524051       221.0   \n",
       "65          Finland  FIN  5.482013e+06  42311.036231       198.0   \n",
       "52          Denmark  DEN  5.676002e+06  51989.293471       179.0   \n",
       "175     Switzerland  SUI  8.286976e+06  80945.079219       175.0   \n",
       "49             Cuba  CUB  1.138956e+07           NaN       164.0   \n",
       "84            India  IND  1.311051e+09   1598.259034       138.0   \n",
       "145          Poland  POL  3.799949e+07  12554.547554       117.0   \n",
       "169           Spain  ESP  4.641827e+07  25831.582305       110.0   \n",
       "26           Brazil  BRA  2.078475e+08   8538.589975       109.0   \n",
       "11          Austria  AUT  8.611088e+06  43774.985174       108.0   \n",
       "18          Belgium  BEL  1.128572e+07  40324.027766        98.0   \n",
       "7         Argentina  ARG  4.341676e+07  13431.878340        91.0   \n",
       "131     New Zealand  NZL  4.595700e+06  37807.967276        90.0   \n",
       "72           Greece  GRE  1.082373e+07  18002.230578        62.0   \n",
       "48          Croatia  CRO  4.224404e+06  11535.829356        58.0   \n",
       "29         Bulgaria  BUL  7.177991e+06   6993.477360        54.0   \n",
       "\n",
       "     Medal_Silver  Medal_Bronze  \n",
       "191        1641.0        1358.0  \n",
       "70          674.0         746.0  \n",
       "190         739.0         651.0  \n",
       "90          531.0         531.0  \n",
       "66          610.0         666.0  \n",
       "174         522.0         535.0  \n",
       "34          438.0         451.0  \n",
       "82          332.0         371.0  \n",
       "150         367.0         408.0  \n",
       "135         361.0         294.0  \n",
       "40          347.0         292.0  \n",
       "10          455.0         517.0  \n",
       "129         340.0         413.0  \n",
       "92          309.0         357.0  \n",
       "97          232.0         185.0  \n",
       "65          270.0         432.0  \n",
       "52          241.0         177.0  \n",
       "175         248.0         268.0  \n",
       "49          129.0         116.0  \n",
       "84           19.0          40.0  \n",
       "145         195.0         253.0  \n",
       "169         243.0         136.0  \n",
       "26          175.0         191.0  \n",
       "11          186.0         156.0  \n",
       "18          197.0         173.0  \n",
       "7            92.0          91.0  \n",
       "131          56.0          82.0  \n",
       "72          109.0          84.0  \n",
       "48           54.0          37.0  \n",
       "29          144.0         144.0  "
      ]
     },
     "execution_count": 126,
     "metadata": {},
     "output_type": "execute_result"
    }
   ],
   "source": [
    "gold_order.head(30)"
   ]
  },
  {
   "cell_type": "markdown",
   "metadata": {},
   "source": [
    "A country's population and GDP have weak to moderate correlations to number of gold medals won. The correlation coefficient for population and gold medals is .25, while the correlation between GDP and gold medals is .41. Several low-GDP-per-capita countries, seen above, such as Brazil, India, Bulgaria, and China, are in the top 30 list of countries with the most gold medals."
   ]
  },
  {
   "cell_type": "code",
   "execution_count": 127,
   "metadata": {},
   "outputs": [
    {
     "data": {
      "image/png": "[encoded data removed]",
      "text/plain": [
       "<Figure size 864x432 with 2 Axes>"
      ]
     },
     "metadata": {},
     "output_type": "display_data"
    }
   ],
   "source": [
    "plt.subplots(2,2,figsize=(12,6))\n",
    "\n",
    "plt.subplot(121)\n",
    "plt.scatter(x = dictionary.Medal_Bronze, y = dictionary.Medal_Silver, c = '#E3CF57')\n",
    "plt.xlabel('Bronze Medal Count')\n",
    "plt.ylabel('Silver Medal Count');\n",
    "\n",
    "plt.subplot(122)\n",
    "plt.scatter(x = dictionary.Medal_Gold, y = dictionary.Medal_Silver, c='#838B8B')\n",
    "plt.xlabel('Gold Medal Count')\n",
    "plt.ylabel('Silver Medal Count');\n"
   ]
  },
  {
   "cell_type": "markdown",
   "metadata": {},
   "source": [
    "While GDP and population do not seem to be strong determining factors for how well a team does at the Olympics, teams that win medals gold medals tend to win silver and bronze medals."
   ]
  },
  {
   "cell_type": "markdown",
   "metadata": {},
   "source": [
    "## What sports had the most competitors in each country?"
   ]
  },
  {
   "cell_type": "code",
   "execution_count": 128,
   "metadata": {},
   "outputs": [],
   "source": [
    "#For each team and each year, find the sport with the highest number of participants\n",
    "max_part = events.groupby(['Team', 'Year', 'Sport' ]).count()"
   ]
  },
  {
   "cell_type": "code",
   "execution_count": 129,
   "metadata": {},
   "outputs": [],
   "source": [
    "#make this groupby object into a dataframe\n",
    "max_part = pd.DataFrame(max_part)\n",
    "max_part = max_part.reset_index()"
   ]
  },
  {
   "cell_type": "code",
   "execution_count": 130,
   "metadata": {},
   "outputs": [],
   "source": [
    "max_part = max_part.drop(max_part.columns[4:], axis=1)"
   ]
  },
  {
   "cell_type": "code",
   "execution_count": 131,
   "metadata": {},
   "outputs": [],
   "source": [
    "max_id = max_part.groupby(['Team', 'Year']).ID.max()\n",
    "max_id = pd.DataFrame(max_id)\n",
    "max_id = max_id.reset_index()"
   ]
  },
  {
   "cell_type": "code",
   "execution_count": 132,
   "metadata": {},
   "outputs": [],
   "source": [
    "sport_year = max_id.merge(max_part, on = ['Team', 'ID', 'Year'])"
   ]
  },
  {
   "cell_type": "code",
   "execution_count": 133,
   "metadata": {},
   "outputs": [],
   "source": [
    "sport_year.to_csv('sport_year.csv')"
   ]
  },
  {
   "cell_type": "code",
   "execution_count": 134,
   "metadata": {},
   "outputs": [
    {
     "data": {
      "text/html": [
       "<div>\n",
       "<style scoped>\n",
       "    .dataframe tbody tr th:only-of-type {\n",
       "        vertical-align: middle;\n",
       "    }\n",
       "\n",
       "    .dataframe tbody tr th {\n",
       "        vertical-align: top;\n",
       "    }\n",
       "\n",
       "    .dataframe thead th {\n",
       "        text-align: right;\n",
       "    }\n",
       "</style>\n",
       "<table border=\"1\" class=\"dataframe\">\n",
       "  <thead>\n",
       "    <tr style=\"text-align: right;\">\n",
       "      <th></th>\n",
       "      <th>Team</th>\n",
       "      <th>Year</th>\n",
       "      <th>ID</th>\n",
       "      <th>Sport</th>\n",
       "    </tr>\n",
       "  </thead>\n",
       "  <tbody>\n",
       "    <tr>\n",
       "      <th>0</th>\n",
       "      <td>30. Februar</td>\n",
       "      <td>1952</td>\n",
       "      <td>2</td>\n",
       "      <td>Sailing</td>\n",
       "    </tr>\n",
       "    <tr>\n",
       "      <th>1</th>\n",
       "      <td>A North American Team</td>\n",
       "      <td>1900</td>\n",
       "      <td>4</td>\n",
       "      <td>Polo</td>\n",
       "    </tr>\n",
       "    <tr>\n",
       "      <th>2</th>\n",
       "      <td>Acipactli</td>\n",
       "      <td>1964</td>\n",
       "      <td>3</td>\n",
       "      <td>Sailing</td>\n",
       "    </tr>\n",
       "    <tr>\n",
       "      <th>3</th>\n",
       "      <td>Acturus</td>\n",
       "      <td>1948</td>\n",
       "      <td>2</td>\n",
       "      <td>Sailing</td>\n",
       "    </tr>\n",
       "    <tr>\n",
       "      <th>4</th>\n",
       "      <td>Afghanistan</td>\n",
       "      <td>1936</td>\n",
       "      <td>13</td>\n",
       "      <td>Hockey</td>\n",
       "    </tr>\n",
       "  </tbody>\n",
       "</table>\n",
       "</div>"
      ],
      "text/plain": [
       "                    Team  Year  ID    Sport\n",
       "0            30. Februar  1952   2  Sailing\n",
       "1  A North American Team  1900   4     Polo\n",
       "2              Acipactli  1964   3  Sailing\n",
       "3                Acturus  1948   2  Sailing\n",
       "4            Afghanistan  1936  13   Hockey"
      ]
     },
     "execution_count": 134,
     "metadata": {},
     "output_type": "execute_result"
    }
   ],
   "source": [
    "sport_year.head()"
   ]
  },
  {
   "cell_type": "markdown",
   "metadata": {},
   "source": [
    "I used this table that contains team, year, sport and number of participants for the most participated in sport per country per year to make a Tableau map visualization below. Adjust the year filter on the right to see what sport, for example, made up the largest contingent of Mexico's Olympic team in 1972. It is also interesting to see how the participating countries were limited to the US, Australia and Europe in 1896, and added new countries as time went on."
   ]
  },
  {
   "cell_type": "code",
   "execution_count": 135,
   "metadata": {},
   "outputs": [
    {
     "data": {
      "text/html": [
       "\n",
       "<div class='tableauPlaceholder' id='viz1540434004237' style='position: relative'><noscript><a href='#'><img alt=' ' src='https:&#47;&#47;public.tableau.com&#47;static&#47;images&#47;97&#47;97CBG93NP&#47;1_rss.png' style='border: none' /></a></noscript><object class='tableauViz'  style='display:none;'><param name='host_url' value='https%3A%2F%2Fpublic.tableau.com%2F' /> <param name='embed_code_version' value='3' /> <param name='path' value='shared&#47;97CBG93NP' /> <param name='toolbar' value='yes' /><param name='static_image' value='https:&#47;&#47;public.tableau.com&#47;static&#47;images&#47;97&#47;97CBG93NP&#47;1.png' /> <param name='animate_transition' value='yes' /><param name='display_static_image' value='yes' /><param name='display_spinner' value='yes' /><param name='display_overlay' value='yes' /><param name='display_count' value='yes' /><param name='filter' value='publish=yes' /></object></div>                <script type='text/javascript'>                    var divElement = document.getElementById('viz1540434004237');                    var vizElement = divElement.getElementsByTagName('object')[0];                    vizElement.style.width='100%';vizElement.style.height=(divElement.offsetWidth*0.75)+'px';                    var scriptElement = document.createElement('script');                    scriptElement.src = 'https://public.tableau.com/javascripts/api/viz_v1.js';                    vizElement.parentNode.insertBefore(scriptElement, vizElement);                </script>"
      ],
      "text/plain": [
       "<IPython.core.display.HTML object>"
      ]
     },
     "metadata": {},
     "output_type": "display_data"
    }
   ],
   "source": [
    "%%HTML\n",
    "\n",
    "<div class='tableauPlaceholder' id='viz1540434004237' style='position: relative'><noscript><a href='#'><img alt=' ' src='https:&#47;&#47;public.tableau.com&#47;static&#47;images&#47;97&#47;97CBG93NP&#47;1_rss.png' style='border: none' /></a></noscript><object class='tableauViz'  style='display:none;'><param name='host_url' value='https%3A%2F%2Fpublic.tableau.com%2F' /> <param name='embed_code_version' value='3' /> <param name='path' value='shared&#47;97CBG93NP' /> <param name='toolbar' value='yes' /><param name='static_image' value='https:&#47;&#47;public.tableau.com&#47;static&#47;images&#47;97&#47;97CBG93NP&#47;1.png' /> <param name='animate_transition' value='yes' /><param name='display_static_image' value='yes' /><param name='display_spinner' value='yes' /><param name='display_overlay' value='yes' /><param name='display_count' value='yes' /><param name='filter' value='publish=yes' /></object></div>                <script type='text/javascript'>                    var divElement = document.getElementById('viz1540434004237');                    var vizElement = divElement.getElementsByTagName('object')[0];                    vizElement.style.width='100%';vizElement.style.height=(divElement.offsetWidth*0.75)+'px';                    var scriptElement = document.createElement('script');                    scriptElement.src = 'https://public.tableau.com/javascripts/api/viz_v1.js';                    vizElement.parentNode.insertBefore(scriptElement, vizElement);                </script>"
   ]
  },
  {
   "cell_type": "markdown",
   "metadata": {},
   "source": [
    "## Summary"
   ]
  },
  {
   "cell_type": "markdown",
   "metadata": {},
   "source": [
    "#### Key findings:\n",
    "\n",
    "The Olympics used to include art competitions alongside its athletic events, and had competitors in their sixties and seventies (and possibly eighties and nineties, though this is unclear). \n",
    "\n",
    "The Games went from being male-dominated and mostly American/European in the late 19th century, to being almost equally male and female, with competitors hailing from nearly every country in the world. \n",
    "\n",
    "Russia, India, China, Brazil and Bulgaria have low (4-digit) GDP per capita values, but their gold medal counts are in the top 30 of all competing countries. \n",
    "\n",
    "Summer athletes tend to be taller and weigh more than winter athletes, but winter athletes tend to have higher BMIs, suggesting that winter athletes tend to have greater muscle (or possibly fat) mass than summer athletes."
   ]
  },
  {
   "cell_type": "code",
   "execution_count": null,
   "metadata": {},
   "outputs": [],
   "source": []
  }
 ],
 "metadata": {
  "kernelspec": {
   "display_name": "Python 3",
   "language": "python",
   "name": "python3"
  },
  "language_info": {
   "codemirror_mode": {
    "name": "ipython",
    "version": 3
   },
   "file_extension": ".py",
   "mimetype": "text/x-python",
   "name": "python",
   "nbconvert_exporter": "python",
   "pygments_lexer": "ipython3",
   "version": "3.6.6"
  }
 },
 "nbformat": 4,
 "nbformat_minor": 2
}
